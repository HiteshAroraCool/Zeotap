{
 "cells": [
  {
   "cell_type": "code",
   "execution_count": 1,
   "id": "f5f08e52",
   "metadata": {
    "_cell_guid": "b1076dfc-b9ad-4769-8c92-a6c4dae69d19",
    "_uuid": "8f2839f25d086af736a60e9eeb907d3b93b6e0e5",
    "execution": {
     "iopub.execute_input": "2025-01-24T12:04:22.739160Z",
     "iopub.status.busy": "2025-01-24T12:04:22.738726Z",
     "iopub.status.idle": "2025-01-24T12:04:25.308617Z",
     "shell.execute_reply": "2025-01-24T12:04:25.307246Z"
    },
    "papermill": {
     "duration": 2.576049,
     "end_time": "2025-01-24T12:04:25.310640",
     "exception": false,
     "start_time": "2025-01-24T12:04:22.734591",
     "status": "completed"
    },
    "tags": []
   },
   "outputs": [
    {
     "name": "stdout",
     "output_type": "stream",
     "text": [
      "/kaggle/input/ecommerce-transactions/Products.csv\n",
      "/kaggle/input/ecommerce-transactions/Customers.csv\n",
      "/kaggle/input/ecommerce-transactions/Transactions.csv\n"
     ]
    }
   ],
   "source": [
    "import numpy as np # linear algebra\n",
    "import pandas as pd # data processing, CSV file I/O (e.g. pd.read_csv)\n",
    "from sklearn.preprocessing import StandardScaler\n",
    "from sklearn.metrics.pairwise import cosine_similarity\n",
    "from sklearn.preprocessing import StandardScaler\n",
    "\n",
    "\n",
    "import os\n",
    "for dirname, _, filenames in os.walk('/kaggle/input'):\n",
    "    for filename in filenames:\n",
    "        print(os.path.join(dirname, filename))"
   ]
  },
  {
   "cell_type": "code",
   "execution_count": 2,
   "id": "5f453204",
   "metadata": {
    "execution": {
     "iopub.execute_input": "2025-01-24T12:04:25.317696Z",
     "iopub.status.busy": "2025-01-24T12:04:25.317158Z",
     "iopub.status.idle": "2025-01-24T12:04:25.380063Z",
     "shell.execute_reply": "2025-01-24T12:04:25.379035Z"
    },
    "papermill": {
     "duration": 0.068389,
     "end_time": "2025-01-24T12:04:25.381931",
     "exception": false,
     "start_time": "2025-01-24T12:04:25.313542",
     "status": "completed"
    },
    "tags": []
   },
   "outputs": [],
   "source": [
    "customers_df = pd.read_csv('/kaggle/input/ecommerce-transactions/Customers.csv')\n",
    "product_df = pd.read_csv('/kaggle/input/ecommerce-transactions/Products.csv')\n",
    "transactions_df = pd.read_csv('/kaggle/input/ecommerce-transactions/Transactions.csv')\n",
    "df = pd.merge(customers_df, transactions_df, on='CustomerID', how='inner')\n",
    "df = pd.merge(df, product_df, on='ProductID', how='inner')"
   ]
  },
  {
   "cell_type": "code",
   "execution_count": 3,
   "id": "8d624155",
   "metadata": {
    "execution": {
     "iopub.execute_input": "2025-01-24T12:04:25.388555Z",
     "iopub.status.busy": "2025-01-24T12:04:25.388205Z",
     "iopub.status.idle": "2025-01-24T12:04:25.420776Z",
     "shell.execute_reply": "2025-01-24T12:04:25.419694Z"
    },
    "papermill": {
     "duration": 0.03786,
     "end_time": "2025-01-24T12:04:25.422540",
     "exception": false,
     "start_time": "2025-01-24T12:04:25.384680",
     "status": "completed"
    },
    "tags": []
   },
   "outputs": [
    {
     "data": {
      "text/html": [
       "<div>\n",
       "<style scoped>\n",
       "    .dataframe tbody tr th:only-of-type {\n",
       "        vertical-align: middle;\n",
       "    }\n",
       "\n",
       "    .dataframe tbody tr th {\n",
       "        vertical-align: top;\n",
       "    }\n",
       "\n",
       "    .dataframe thead th {\n",
       "        text-align: right;\n",
       "    }\n",
       "</style>\n",
       "<table border=\"1\" class=\"dataframe\">\n",
       "  <thead>\n",
       "    <tr style=\"text-align: right;\">\n",
       "      <th></th>\n",
       "      <th>CustomerID</th>\n",
       "      <th>CustomerName</th>\n",
       "      <th>Region</th>\n",
       "      <th>SignupDate</th>\n",
       "      <th>TransactionID</th>\n",
       "      <th>ProductID</th>\n",
       "      <th>TransactionDate</th>\n",
       "      <th>Quantity</th>\n",
       "      <th>TotalValue</th>\n",
       "      <th>Price_x</th>\n",
       "      <th>ProductName</th>\n",
       "      <th>Category</th>\n",
       "      <th>Price_y</th>\n",
       "    </tr>\n",
       "  </thead>\n",
       "  <tbody>\n",
       "    <tr>\n",
       "      <th>0</th>\n",
       "      <td>C0001</td>\n",
       "      <td>Lawrence Carroll</td>\n",
       "      <td>South America</td>\n",
       "      <td>2022-07-10</td>\n",
       "      <td>T00015</td>\n",
       "      <td>P054</td>\n",
       "      <td>2024-01-19 03:12:55</td>\n",
       "      <td>2</td>\n",
       "      <td>114.60</td>\n",
       "      <td>57.30</td>\n",
       "      <td>SoundWave Cookbook</td>\n",
       "      <td>Books</td>\n",
       "      <td>57.30</td>\n",
       "    </tr>\n",
       "    <tr>\n",
       "      <th>1</th>\n",
       "      <td>C0001</td>\n",
       "      <td>Lawrence Carroll</td>\n",
       "      <td>South America</td>\n",
       "      <td>2022-07-10</td>\n",
       "      <td>T00932</td>\n",
       "      <td>P022</td>\n",
       "      <td>2024-09-17 09:01:18</td>\n",
       "      <td>3</td>\n",
       "      <td>412.62</td>\n",
       "      <td>137.54</td>\n",
       "      <td>HomeSense Wall Art</td>\n",
       "      <td>Home Decor</td>\n",
       "      <td>137.54</td>\n",
       "    </tr>\n",
       "    <tr>\n",
       "      <th>2</th>\n",
       "      <td>C0001</td>\n",
       "      <td>Lawrence Carroll</td>\n",
       "      <td>South America</td>\n",
       "      <td>2022-07-10</td>\n",
       "      <td>T00085</td>\n",
       "      <td>P096</td>\n",
       "      <td>2024-04-08 00:01:00</td>\n",
       "      <td>2</td>\n",
       "      <td>614.94</td>\n",
       "      <td>307.47</td>\n",
       "      <td>SoundWave Headphones</td>\n",
       "      <td>Electronics</td>\n",
       "      <td>307.47</td>\n",
       "    </tr>\n",
       "    <tr>\n",
       "      <th>3</th>\n",
       "      <td>C0001</td>\n",
       "      <td>Lawrence Carroll</td>\n",
       "      <td>South America</td>\n",
       "      <td>2022-07-10</td>\n",
       "      <td>T00445</td>\n",
       "      <td>P083</td>\n",
       "      <td>2024-05-07 03:11:44</td>\n",
       "      <td>2</td>\n",
       "      <td>911.44</td>\n",
       "      <td>455.72</td>\n",
       "      <td>ActiveWear Smartwatch</td>\n",
       "      <td>Electronics</td>\n",
       "      <td>455.72</td>\n",
       "    </tr>\n",
       "    <tr>\n",
       "      <th>4</th>\n",
       "      <td>C0001</td>\n",
       "      <td>Lawrence Carroll</td>\n",
       "      <td>South America</td>\n",
       "      <td>2022-07-10</td>\n",
       "      <td>T00436</td>\n",
       "      <td>P029</td>\n",
       "      <td>2024-11-02 17:04:16</td>\n",
       "      <td>3</td>\n",
       "      <td>1300.92</td>\n",
       "      <td>433.64</td>\n",
       "      <td>TechPro Headphones</td>\n",
       "      <td>Electronics</td>\n",
       "      <td>433.64</td>\n",
       "    </tr>\n",
       "  </tbody>\n",
       "</table>\n",
       "</div>"
      ],
      "text/plain": [
       "  CustomerID      CustomerName         Region  SignupDate TransactionID  \\\n",
       "0      C0001  Lawrence Carroll  South America  2022-07-10        T00015   \n",
       "1      C0001  Lawrence Carroll  South America  2022-07-10        T00932   \n",
       "2      C0001  Lawrence Carroll  South America  2022-07-10        T00085   \n",
       "3      C0001  Lawrence Carroll  South America  2022-07-10        T00445   \n",
       "4      C0001  Lawrence Carroll  South America  2022-07-10        T00436   \n",
       "\n",
       "  ProductID      TransactionDate  Quantity  TotalValue  Price_x  \\\n",
       "0      P054  2024-01-19 03:12:55         2      114.60    57.30   \n",
       "1      P022  2024-09-17 09:01:18         3      412.62   137.54   \n",
       "2      P096  2024-04-08 00:01:00         2      614.94   307.47   \n",
       "3      P083  2024-05-07 03:11:44         2      911.44   455.72   \n",
       "4      P029  2024-11-02 17:04:16         3     1300.92   433.64   \n",
       "\n",
       "             ProductName     Category  Price_y  \n",
       "0     SoundWave Cookbook        Books    57.30  \n",
       "1     HomeSense Wall Art   Home Decor   137.54  \n",
       "2   SoundWave Headphones  Electronics   307.47  \n",
       "3  ActiveWear Smartwatch  Electronics   455.72  \n",
       "4     TechPro Headphones  Electronics   433.64  "
      ]
     },
     "execution_count": 3,
     "metadata": {},
     "output_type": "execute_result"
    }
   ],
   "source": [
    "# TOP 20 customersID for analysis (CustomerID: C0001 - C0020)\n",
    "customers_subset = df[df['CustomerID'].isin([f'C{i:04}' for i in range(1, 21)])]\n",
    "customers_subset.head()"
   ]
  },
  {
   "cell_type": "code",
   "execution_count": 4,
   "id": "fa03e10d",
   "metadata": {
    "execution": {
     "iopub.execute_input": "2025-01-24T12:04:25.431237Z",
     "iopub.status.busy": "2025-01-24T12:04:25.430822Z",
     "iopub.status.idle": "2025-01-24T12:04:25.444029Z",
     "shell.execute_reply": "2025-01-24T12:04:25.442879Z"
    },
    "papermill": {
     "duration": 0.019991,
     "end_time": "2025-01-24T12:04:25.445857",
     "exception": false,
     "start_time": "2025-01-24T12:04:25.425866",
     "status": "completed"
    },
    "tags": []
   },
   "outputs": [],
   "source": [
    "# Calculate total spend and average purchase frequency\n",
    "customer_spend = customers_subset.groupby('CustomerID')['TotalValue'].sum().reset_index()\n",
    "customer_frequency = customers_subset.groupby('CustomerID')['TransactionID'].count().reset_index()"
   ]
  },
  {
   "cell_type": "code",
   "execution_count": 5,
   "id": "c6cef0a7",
   "metadata": {
    "execution": {
     "iopub.execute_input": "2025-01-24T12:04:25.453091Z",
     "iopub.status.busy": "2025-01-24T12:04:25.452641Z",
     "iopub.status.idle": "2025-01-24T12:04:25.479706Z",
     "shell.execute_reply": "2025-01-24T12:04:25.478666Z"
    },
    "papermill": {
     "duration": 0.032624,
     "end_time": "2025-01-24T12:04:25.481537",
     "exception": false,
     "start_time": "2025-01-24T12:04:25.448913",
     "status": "completed"
    },
    "tags": []
   },
   "outputs": [],
   "source": [
    "# Merge the customer spend and frequency\n",
    "customer_features = pd.merge(customer_spend, customer_frequency, on='CustomerID')\n",
    "scaler = StandardScaler()\n",
    "scaled_features = scaler.fit_transform(customer_features[['TotalValue', 'TransactionID']])\n",
    "\n",
    "# Compute cosine similarity\n",
    "similarity_matrix = cosine_similarity(scaled_features)"
   ]
  },
  {
   "cell_type": "code",
   "execution_count": 6,
   "id": "85b2ef03",
   "metadata": {
    "execution": {
     "iopub.execute_input": "2025-01-24T12:04:25.488559Z",
     "iopub.status.busy": "2025-01-24T12:04:25.488179Z",
     "iopub.status.idle": "2025-01-24T12:04:25.494782Z",
     "shell.execute_reply": "2025-01-24T12:04:25.493869Z"
    },
    "papermill": {
     "duration": 0.011925,
     "end_time": "2025-01-24T12:04:25.496455",
     "exception": false,
     "start_time": "2025-01-24T12:04:25.484530",
     "status": "completed"
    },
    "tags": []
   },
   "outputs": [],
   "source": [
    "# Get top 3 similar customers for each customer\n",
    "lookalikes = {}\n",
    "for i in range(20):  # For the first 20 customers (C0001 to C0020)\n",
    "    customer_id = customer_features['CustomerID'].iloc[i]\n",
    "    similar_indices = similarity_matrix[i].argsort()[-4:-1][::-1]  # Get top 3 similar customers (excluding itself)\n",
    "    similar_customers = [(customer_features['CustomerID'].iloc[j], similarity_matrix[i, j]) for j in similar_indices]\n",
    "    lookalikes[customer_id] = similar_customers"
   ]
  },
  {
   "cell_type": "code",
   "execution_count": 7,
   "id": "bae114a3",
   "metadata": {
    "execution": {
     "iopub.execute_input": "2025-01-24T12:04:25.503154Z",
     "iopub.status.busy": "2025-01-24T12:04:25.502704Z",
     "iopub.status.idle": "2025-01-24T12:04:25.539611Z",
     "shell.execute_reply": "2025-01-24T12:04:25.538540Z"
    },
    "papermill": {
     "duration": 0.042318,
     "end_time": "2025-01-24T12:04:25.541608",
     "exception": false,
     "start_time": "2025-01-24T12:04:25.499290",
     "status": "completed"
    },
    "tags": []
   },
   "outputs": [
    {
     "data": {
      "text/html": [
       "<div>\n",
       "<style scoped>\n",
       "    .dataframe tbody tr th:only-of-type {\n",
       "        vertical-align: middle;\n",
       "    }\n",
       "\n",
       "    .dataframe tbody tr th {\n",
       "        vertical-align: top;\n",
       "    }\n",
       "\n",
       "    .dataframe thead th {\n",
       "        text-align: right;\n",
       "    }\n",
       "</style>\n",
       "<table border=\"1\" class=\"dataframe\">\n",
       "  <thead>\n",
       "    <tr style=\"text-align: right;\">\n",
       "      <th></th>\n",
       "      <th>CustomerID</th>\n",
       "      <th>Lookalikes</th>\n",
       "    </tr>\n",
       "  </thead>\n",
       "  <tbody>\n",
       "    <tr>\n",
       "      <th>0</th>\n",
       "      <td>C0001</td>\n",
       "      <td>[(C0012, 0.9993606011582863), (C0013, 0.994605...</td>\n",
       "    </tr>\n",
       "    <tr>\n",
       "      <th>1</th>\n",
       "      <td>C0002</td>\n",
       "      <td>[(C0010, 0.9992480644153787), (C0009, 0.994294...</td>\n",
       "    </tr>\n",
       "    <tr>\n",
       "      <th>2</th>\n",
       "      <td>C0003</td>\n",
       "      <td>[(C0020, 0.9973033114146811), (C0005, 0.995331...</td>\n",
       "    </tr>\n",
       "    <tr>\n",
       "      <th>3</th>\n",
       "      <td>C0004</td>\n",
       "      <td>[(C0017, 0.9884753148884934), (C0012, 0.988210...</td>\n",
       "    </tr>\n",
       "    <tr>\n",
       "      <th>4</th>\n",
       "      <td>C0005</td>\n",
       "      <td>[(C0020, 0.9997306439937342), (C0015, 0.997259...</td>\n",
       "    </tr>\n",
       "    <tr>\n",
       "      <th>5</th>\n",
       "      <td>C0006</td>\n",
       "      <td>[(C0018, 0.8548018682152774), (C0016, 0.786606...</td>\n",
       "    </tr>\n",
       "    <tr>\n",
       "      <th>6</th>\n",
       "      <td>C0007</td>\n",
       "      <td>[(C0003, 0.976733914448762), (C0020, 0.9583611...</td>\n",
       "    </tr>\n",
       "    <tr>\n",
       "      <th>7</th>\n",
       "      <td>C0008</td>\n",
       "      <td>[(C0017, 0.9500218674850054), (C0004, 0.891814...</td>\n",
       "    </tr>\n",
       "    <tr>\n",
       "      <th>8</th>\n",
       "      <td>C0009</td>\n",
       "      <td>[(C0002, 0.9942948290297401), (C0010, 0.989411...</td>\n",
       "    </tr>\n",
       "    <tr>\n",
       "      <th>9</th>\n",
       "      <td>C0010</td>\n",
       "      <td>[(C0002, 0.9992480644153787), (C0009, 0.989411...</td>\n",
       "    </tr>\n",
       "    <tr>\n",
       "      <th>10</th>\n",
       "      <td>C0011</td>\n",
       "      <td>[(C0016, 0.9987919423913139), (C0018, 0.985747...</td>\n",
       "    </tr>\n",
       "    <tr>\n",
       "      <th>11</th>\n",
       "      <td>C0012</td>\n",
       "      <td>[(C0001, 0.9993606011582863), (C0013, 0.990260...</td>\n",
       "    </tr>\n",
       "    <tr>\n",
       "      <th>12</th>\n",
       "      <td>C0013</td>\n",
       "      <td>[(C0001, 0.994605562719149), (C0012, 0.9902608...</td>\n",
       "    </tr>\n",
       "    <tr>\n",
       "      <th>13</th>\n",
       "      <td>C0014</td>\n",
       "      <td>[(C0015, 0.9997008151522969), (C0005, 0.995150...</td>\n",
       "    </tr>\n",
       "    <tr>\n",
       "      <th>14</th>\n",
       "      <td>C0015</td>\n",
       "      <td>[(C0014, 0.9997008151522969), (C0005, 0.997259...</td>\n",
       "    </tr>\n",
       "    <tr>\n",
       "      <th>15</th>\n",
       "      <td>C0016</td>\n",
       "      <td>[(C0011, 0.9987919423913139), (C0018, 0.992823...</td>\n",
       "    </tr>\n",
       "    <tr>\n",
       "      <th>16</th>\n",
       "      <td>C0017</td>\n",
       "      <td>[(C0004, 0.9884753148884934), (C0012, 0.953645...</td>\n",
       "    </tr>\n",
       "    <tr>\n",
       "      <th>17</th>\n",
       "      <td>C0018</td>\n",
       "      <td>[(C0016, 0.9928234673402483), (C0011, 0.985747...</td>\n",
       "    </tr>\n",
       "    <tr>\n",
       "      <th>18</th>\n",
       "      <td>C0019</td>\n",
       "      <td>[(C0008, 0.449124498175046), (C0010, 0.4190303...</td>\n",
       "    </tr>\n",
       "    <tr>\n",
       "      <th>19</th>\n",
       "      <td>C0020</td>\n",
       "      <td>[(C0005, 0.9997306439937342), (C0003, 0.997303...</td>\n",
       "    </tr>\n",
       "  </tbody>\n",
       "</table>\n",
       "</div>"
      ],
      "text/plain": [
       "   CustomerID                                         Lookalikes\n",
       "0       C0001  [(C0012, 0.9993606011582863), (C0013, 0.994605...\n",
       "1       C0002  [(C0010, 0.9992480644153787), (C0009, 0.994294...\n",
       "2       C0003  [(C0020, 0.9973033114146811), (C0005, 0.995331...\n",
       "3       C0004  [(C0017, 0.9884753148884934), (C0012, 0.988210...\n",
       "4       C0005  [(C0020, 0.9997306439937342), (C0015, 0.997259...\n",
       "5       C0006  [(C0018, 0.8548018682152774), (C0016, 0.786606...\n",
       "6       C0007  [(C0003, 0.976733914448762), (C0020, 0.9583611...\n",
       "7       C0008  [(C0017, 0.9500218674850054), (C0004, 0.891814...\n",
       "8       C0009  [(C0002, 0.9942948290297401), (C0010, 0.989411...\n",
       "9       C0010  [(C0002, 0.9992480644153787), (C0009, 0.989411...\n",
       "10      C0011  [(C0016, 0.9987919423913139), (C0018, 0.985747...\n",
       "11      C0012  [(C0001, 0.9993606011582863), (C0013, 0.990260...\n",
       "12      C0013  [(C0001, 0.994605562719149), (C0012, 0.9902608...\n",
       "13      C0014  [(C0015, 0.9997008151522969), (C0005, 0.995150...\n",
       "14      C0015  [(C0014, 0.9997008151522969), (C0005, 0.997259...\n",
       "15      C0016  [(C0011, 0.9987919423913139), (C0018, 0.992823...\n",
       "16      C0017  [(C0004, 0.9884753148884934), (C0012, 0.953645...\n",
       "17      C0018  [(C0016, 0.9928234673402483), (C0011, 0.985747...\n",
       "18      C0019  [(C0008, 0.449124498175046), (C0010, 0.4190303...\n",
       "19      C0020  [(C0005, 0.9997306439937342), (C0003, 0.997303..."
      ]
     },
     "execution_count": 7,
     "metadata": {},
     "output_type": "execute_result"
    }
   ],
   "source": [
    "# Create a list of dictionaries to save as CSV\n",
    "lookalike_map = []\n",
    "for cust_id, similars in lookalikes.items():\n",
    "    lookalike_map.append({\n",
    "        'CustomerID': cust_id,\n",
    "        'Lookalikes': similars\n",
    "    })\n",
    "\n",
    "# Convert to DataFrame and save\n",
    "lookalike_df = pd.DataFrame(lookalike_map)\n",
    "lookalike_df.to_csv('Lookalike.csv', index=False)\n",
    "lookalike_df"
   ]
  }
 ],
 "metadata": {
  "kaggle": {
   "accelerator": "none",
   "dataSources": [
    {
     "datasetId": 6530279,
     "sourceId": 10554760,
     "sourceType": "datasetVersion"
    }
   ],
   "dockerImageVersionId": 30839,
   "isGpuEnabled": false,
   "isInternetEnabled": true,
   "language": "python",
   "sourceType": "notebook"
  },
  "kernelspec": {
   "display_name": "Python 3",
   "language": "python",
   "name": "python3"
  },
  "language_info": {
   "codemirror_mode": {
    "name": "ipython",
    "version": 3
   },
   "file_extension": ".py",
   "mimetype": "text/x-python",
   "name": "python",
   "nbconvert_exporter": "python",
   "pygments_lexer": "ipython3",
   "version": "3.10.12"
  },
  "papermill": {
   "default_parameters": {},
   "duration": 6.442057,
   "end_time": "2025-01-24T12:04:26.265768",
   "environment_variables": {},
   "exception": null,
   "input_path": "__notebook__.ipynb",
   "output_path": "__notebook__.ipynb",
   "parameters": {},
   "start_time": "2025-01-24T12:04:19.823711",
   "version": "2.6.0"
  }
 },
 "nbformat": 4,
 "nbformat_minor": 5
}
