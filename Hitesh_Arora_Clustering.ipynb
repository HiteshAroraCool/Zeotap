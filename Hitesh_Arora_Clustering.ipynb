{
 "cells": [
  {
   "cell_type": "code",
   "execution_count": 1,
   "id": "82969044",
   "metadata": {
    "_cell_guid": "b1076dfc-b9ad-4769-8c92-a6c4dae69d19",
    "_uuid": "8f2839f25d086af736a60e9eeb907d3b93b6e0e5",
    "execution": {
     "iopub.execute_input": "2025-01-24T11:42:31.296712Z",
     "iopub.status.busy": "2025-01-24T11:42:31.295724Z",
     "iopub.status.idle": "2025-01-24T11:42:35.126344Z",
     "shell.execute_reply": "2025-01-24T11:42:35.125030Z"
    },
    "papermill": {
     "duration": 3.839911,
     "end_time": "2025-01-24T11:42:35.128298",
     "exception": false,
     "start_time": "2025-01-24T11:42:31.288387",
     "status": "completed"
    },
    "tags": []
   },
   "outputs": [
    {
     "name": "stdout",
     "output_type": "stream",
     "text": [
      "/kaggle/input/ecommerce-transactions/Products.csv\n",
      "/kaggle/input/ecommerce-transactions/Customers.csv\n",
      "/kaggle/input/ecommerce-transactions/Transactions.csv\n"
     ]
    }
   ],
   "source": [
    "import numpy as np # linear algebra\n",
    "import pandas as pd # data processing, CSV file I/O (e.g. pd.read_csv)\n",
    "import matplotlib.pyplot as plt\n",
    "%matplotlib inline \n",
    "# magic command that allows the plots to be displayed directly in the Jupyter Notebook.\n",
    "from sklearn.cluster import KMeans\n",
    "import seaborn as sns\n",
    "from sklearn.preprocessing import StandardScaler\n",
    "from sklearn.metrics import davies_bouldin_score\n",
    "\n",
    "pd.set_option('display.max_columns',500) \n",
    "\n",
    "import os\n",
    "for dirname, _, filenames in os.walk('/kaggle/input'):\n",
    "    for filename in filenames:\n",
    "        print(os.path.join(dirname, filename))"
   ]
  },
  {
   "cell_type": "code",
   "execution_count": 2,
   "id": "28735ee1",
   "metadata": {
    "execution": {
     "iopub.execute_input": "2025-01-24T11:42:35.138319Z",
     "iopub.status.busy": "2025-01-24T11:42:35.137802Z",
     "iopub.status.idle": "2025-01-24T11:42:35.213007Z",
     "shell.execute_reply": "2025-01-24T11:42:35.211907Z"
    },
    "papermill": {
     "duration": 0.082081,
     "end_time": "2025-01-24T11:42:35.214944",
     "exception": false,
     "start_time": "2025-01-24T11:42:35.132863",
     "status": "completed"
    },
    "tags": []
   },
   "outputs": [
    {
     "data": {
      "text/html": [
       "<div>\n",
       "<style scoped>\n",
       "    .dataframe tbody tr th:only-of-type {\n",
       "        vertical-align: middle;\n",
       "    }\n",
       "\n",
       "    .dataframe tbody tr th {\n",
       "        vertical-align: top;\n",
       "    }\n",
       "\n",
       "    .dataframe thead th {\n",
       "        text-align: right;\n",
       "    }\n",
       "</style>\n",
       "<table border=\"1\" class=\"dataframe\">\n",
       "  <thead>\n",
       "    <tr style=\"text-align: right;\">\n",
       "      <th></th>\n",
       "      <th>CustomerID</th>\n",
       "      <th>CustomerName</th>\n",
       "      <th>Region</th>\n",
       "      <th>SignupDate</th>\n",
       "      <th>TransactionID</th>\n",
       "      <th>ProductID</th>\n",
       "      <th>TransactionDate</th>\n",
       "      <th>Quantity</th>\n",
       "      <th>TotalValue</th>\n",
       "      <th>Price</th>\n",
       "    </tr>\n",
       "  </thead>\n",
       "  <tbody>\n",
       "    <tr>\n",
       "      <th>0</th>\n",
       "      <td>C0001</td>\n",
       "      <td>Lawrence Carroll</td>\n",
       "      <td>South America</td>\n",
       "      <td>2022-07-10</td>\n",
       "      <td>T00015</td>\n",
       "      <td>P054</td>\n",
       "      <td>2024-01-19 03:12:55</td>\n",
       "      <td>2</td>\n",
       "      <td>114.60</td>\n",
       "      <td>57.30</td>\n",
       "    </tr>\n",
       "    <tr>\n",
       "      <th>1</th>\n",
       "      <td>C0001</td>\n",
       "      <td>Lawrence Carroll</td>\n",
       "      <td>South America</td>\n",
       "      <td>2022-07-10</td>\n",
       "      <td>T00932</td>\n",
       "      <td>P022</td>\n",
       "      <td>2024-09-17 09:01:18</td>\n",
       "      <td>3</td>\n",
       "      <td>412.62</td>\n",
       "      <td>137.54</td>\n",
       "    </tr>\n",
       "    <tr>\n",
       "      <th>2</th>\n",
       "      <td>C0001</td>\n",
       "      <td>Lawrence Carroll</td>\n",
       "      <td>South America</td>\n",
       "      <td>2022-07-10</td>\n",
       "      <td>T00085</td>\n",
       "      <td>P096</td>\n",
       "      <td>2024-04-08 00:01:00</td>\n",
       "      <td>2</td>\n",
       "      <td>614.94</td>\n",
       "      <td>307.47</td>\n",
       "    </tr>\n",
       "    <tr>\n",
       "      <th>3</th>\n",
       "      <td>C0001</td>\n",
       "      <td>Lawrence Carroll</td>\n",
       "      <td>South America</td>\n",
       "      <td>2022-07-10</td>\n",
       "      <td>T00445</td>\n",
       "      <td>P083</td>\n",
       "      <td>2024-05-07 03:11:44</td>\n",
       "      <td>2</td>\n",
       "      <td>911.44</td>\n",
       "      <td>455.72</td>\n",
       "    </tr>\n",
       "    <tr>\n",
       "      <th>4</th>\n",
       "      <td>C0001</td>\n",
       "      <td>Lawrence Carroll</td>\n",
       "      <td>South America</td>\n",
       "      <td>2022-07-10</td>\n",
       "      <td>T00436</td>\n",
       "      <td>P029</td>\n",
       "      <td>2024-11-02 17:04:16</td>\n",
       "      <td>3</td>\n",
       "      <td>1300.92</td>\n",
       "      <td>433.64</td>\n",
       "    </tr>\n",
       "  </tbody>\n",
       "</table>\n",
       "</div>"
      ],
      "text/plain": [
       "  CustomerID      CustomerName         Region  SignupDate TransactionID  \\\n",
       "0      C0001  Lawrence Carroll  South America  2022-07-10        T00015   \n",
       "1      C0001  Lawrence Carroll  South America  2022-07-10        T00932   \n",
       "2      C0001  Lawrence Carroll  South America  2022-07-10        T00085   \n",
       "3      C0001  Lawrence Carroll  South America  2022-07-10        T00445   \n",
       "4      C0001  Lawrence Carroll  South America  2022-07-10        T00436   \n",
       "\n",
       "  ProductID      TransactionDate  Quantity  TotalValue   Price  \n",
       "0      P054  2024-01-19 03:12:55         2      114.60   57.30  \n",
       "1      P022  2024-09-17 09:01:18         3      412.62  137.54  \n",
       "2      P096  2024-04-08 00:01:00         2      614.94  307.47  \n",
       "3      P083  2024-05-07 03:11:44         2      911.44  455.72  \n",
       "4      P029  2024-11-02 17:04:16         3     1300.92  433.64  "
      ]
     },
     "execution_count": 2,
     "metadata": {},
     "output_type": "execute_result"
    }
   ],
   "source": [
    "cust = pd.read_csv('/kaggle/input/ecommerce-transactions/Customers.csv')\n",
    "trans = pd.read_csv('/kaggle/input/ecommerce-transactions/Transactions.csv')\n",
    "\n",
    "df = pd.merge(cust, trans, on='CustomerID', how='inner')\n",
    "df.head()"
   ]
  },
  {
   "cell_type": "code",
   "execution_count": 3,
   "id": "a859d918",
   "metadata": {
    "execution": {
     "iopub.execute_input": "2025-01-24T11:42:35.224748Z",
     "iopub.status.busy": "2025-01-24T11:42:35.224329Z",
     "iopub.status.idle": "2025-01-24T11:42:35.250115Z",
     "shell.execute_reply": "2025-01-24T11:42:35.248660Z"
    },
    "papermill": {
     "duration": 0.032852,
     "end_time": "2025-01-24T11:42:35.252115",
     "exception": false,
     "start_time": "2025-01-24T11:42:35.219263",
     "status": "completed"
    },
    "tags": []
   },
   "outputs": [
    {
     "name": "stdout",
     "output_type": "stream",
     "text": [
      "<class 'pandas.core.frame.DataFrame'>\n",
      "RangeIndex: 1000 entries, 0 to 999\n",
      "Data columns (total 10 columns):\n",
      " #   Column           Non-Null Count  Dtype  \n",
      "---  ------           --------------  -----  \n",
      " 0   CustomerID       1000 non-null   object \n",
      " 1   CustomerName     1000 non-null   object \n",
      " 2   Region           1000 non-null   object \n",
      " 3   SignupDate       1000 non-null   object \n",
      " 4   TransactionID    1000 non-null   object \n",
      " 5   ProductID        1000 non-null   object \n",
      " 6   TransactionDate  1000 non-null   object \n",
      " 7   Quantity         1000 non-null   int64  \n",
      " 8   TotalValue       1000 non-null   float64\n",
      " 9   Price            1000 non-null   float64\n",
      "dtypes: float64(2), int64(1), object(7)\n",
      "memory usage: 78.2+ KB\n"
     ]
    }
   ],
   "source": [
    "df.info()"
   ]
  },
  {
   "cell_type": "code",
   "execution_count": 4,
   "id": "44d76bc0",
   "metadata": {
    "execution": {
     "iopub.execute_input": "2025-01-24T11:42:35.262031Z",
     "iopub.status.busy": "2025-01-24T11:42:35.261618Z",
     "iopub.status.idle": "2025-01-24T11:42:35.283454Z",
     "shell.execute_reply": "2025-01-24T11:42:35.282301Z"
    },
    "papermill": {
     "duration": 0.028801,
     "end_time": "2025-01-24T11:42:35.285346",
     "exception": false,
     "start_time": "2025-01-24T11:42:35.256545",
     "status": "completed"
    },
    "tags": []
   },
   "outputs": [
    {
     "data": {
      "text/html": [
       "<div>\n",
       "<style scoped>\n",
       "    .dataframe tbody tr th:only-of-type {\n",
       "        vertical-align: middle;\n",
       "    }\n",
       "\n",
       "    .dataframe tbody tr th {\n",
       "        vertical-align: top;\n",
       "    }\n",
       "\n",
       "    .dataframe thead th {\n",
       "        text-align: right;\n",
       "    }\n",
       "</style>\n",
       "<table border=\"1\" class=\"dataframe\">\n",
       "  <thead>\n",
       "    <tr style=\"text-align: right;\">\n",
       "      <th></th>\n",
       "      <th>Quantity</th>\n",
       "      <th>TotalValue</th>\n",
       "      <th>Price</th>\n",
       "    </tr>\n",
       "  </thead>\n",
       "  <tbody>\n",
       "    <tr>\n",
       "      <th>count</th>\n",
       "      <td>1000.000000</td>\n",
       "      <td>1000.000000</td>\n",
       "      <td>1000.00000</td>\n",
       "    </tr>\n",
       "    <tr>\n",
       "      <th>mean</th>\n",
       "      <td>2.537000</td>\n",
       "      <td>689.995560</td>\n",
       "      <td>272.55407</td>\n",
       "    </tr>\n",
       "    <tr>\n",
       "      <th>std</th>\n",
       "      <td>1.117981</td>\n",
       "      <td>493.144478</td>\n",
       "      <td>140.73639</td>\n",
       "    </tr>\n",
       "    <tr>\n",
       "      <th>min</th>\n",
       "      <td>1.000000</td>\n",
       "      <td>16.080000</td>\n",
       "      <td>16.08000</td>\n",
       "    </tr>\n",
       "    <tr>\n",
       "      <th>25%</th>\n",
       "      <td>2.000000</td>\n",
       "      <td>295.295000</td>\n",
       "      <td>147.95000</td>\n",
       "    </tr>\n",
       "    <tr>\n",
       "      <th>50%</th>\n",
       "      <td>3.000000</td>\n",
       "      <td>588.880000</td>\n",
       "      <td>299.93000</td>\n",
       "    </tr>\n",
       "    <tr>\n",
       "      <th>75%</th>\n",
       "      <td>4.000000</td>\n",
       "      <td>1011.660000</td>\n",
       "      <td>404.40000</td>\n",
       "    </tr>\n",
       "    <tr>\n",
       "      <th>max</th>\n",
       "      <td>4.000000</td>\n",
       "      <td>1991.040000</td>\n",
       "      <td>497.76000</td>\n",
       "    </tr>\n",
       "  </tbody>\n",
       "</table>\n",
       "</div>"
      ],
      "text/plain": [
       "          Quantity   TotalValue       Price\n",
       "count  1000.000000  1000.000000  1000.00000\n",
       "mean      2.537000   689.995560   272.55407\n",
       "std       1.117981   493.144478   140.73639\n",
       "min       1.000000    16.080000    16.08000\n",
       "25%       2.000000   295.295000   147.95000\n",
       "50%       3.000000   588.880000   299.93000\n",
       "75%       4.000000  1011.660000   404.40000\n",
       "max       4.000000  1991.040000   497.76000"
      ]
     },
     "execution_count": 4,
     "metadata": {},
     "output_type": "execute_result"
    }
   ],
   "source": [
    "df.describe()"
   ]
  },
  {
   "cell_type": "code",
   "execution_count": 5,
   "id": "8e3b5f34",
   "metadata": {
    "execution": {
     "iopub.execute_input": "2025-01-24T11:42:35.295746Z",
     "iopub.status.busy": "2025-01-24T11:42:35.295317Z",
     "iopub.status.idle": "2025-01-24T11:42:35.301987Z",
     "shell.execute_reply": "2025-01-24T11:42:35.300052Z"
    },
    "papermill": {
     "duration": 0.014396,
     "end_time": "2025-01-24T11:42:35.304239",
     "exception": false,
     "start_time": "2025-01-24T11:42:35.289843",
     "status": "completed"
    },
    "tags": []
   },
   "outputs": [],
   "source": [
    "order_value = df['TotalValue']\n",
    "mean_value = order_value.mean()"
   ]
  },
  {
   "cell_type": "code",
   "execution_count": 6,
   "id": "fffee8ba",
   "metadata": {
    "execution": {
     "iopub.execute_input": "2025-01-24T11:42:35.314681Z",
     "iopub.status.busy": "2025-01-24T11:42:35.314203Z",
     "iopub.status.idle": "2025-01-24T11:42:36.170944Z",
     "shell.execute_reply": "2025-01-24T11:42:36.169722Z"
    },
    "papermill": {
     "duration": 0.864085,
     "end_time": "2025-01-24T11:42:36.172995",
     "exception": false,
     "start_time": "2025-01-24T11:42:35.308910",
     "status": "completed"
    },
    "tags": []
   },
   "outputs": [
    {
     "name": "stderr",
     "output_type": "stream",
     "text": [
      "/usr/local/lib/python3.10/dist-packages/seaborn/_oldcore.py:1119: FutureWarning: use_inf_as_na option is deprecated and will be removed in a future version. Convert inf values to NaN before operating instead.\n",
      "  with pd.option_context('mode.use_inf_as_na', True):\n"
     ]
    },
    {
     "data": {
      "image/png": "[encoded data removed]",
      "text/plain": [
       "<Figure size 1400x600 with 2 Axes>"
      ]
     },
     "metadata": {},
     "output_type": "display_data"
    }
   ],
   "source": [
    "fig, axes = plt.subplots(1, 2, figsize=(14, 6))\n",
    "\n",
    "sns.boxplot(data=order_value, ax=axes[0])\n",
    "axes[0].axhline(mean_value, color='r', linestyle='--', label=f'Mean: {mean_value:.2f}')\n",
    "axes[0].set_title('Box Plot of Order Value')\n",
    "axes[0].legend()\n",
    "\n",
    "sns.histplot(order_value, bins=30, kde=False, ax=axes[1])\n",
    "axes[1].axvline(mean_value, color='r', linestyle='--', label=f'Mean: {mean_value:.2f}')\n",
    "axes[1].set_title('Histogram of Order Value')\n",
    "axes[1].legend()\n",
    "\n",
    "plt.tight_layout()\n",
    "plt.show()"
   ]
  },
  {
   "cell_type": "code",
   "execution_count": 7,
   "id": "ba830aa5",
   "metadata": {
    "execution": {
     "iopub.execute_input": "2025-01-24T11:42:36.185167Z",
     "iopub.status.busy": "2025-01-24T11:42:36.184796Z",
     "iopub.status.idle": "2025-01-24T11:42:36.198221Z",
     "shell.execute_reply": "2025-01-24T11:42:36.196139Z"
    },
    "papermill": {
     "duration": 0.022896,
     "end_time": "2025-01-24T11:42:36.201422",
     "exception": false,
     "start_time": "2025-01-24T11:42:36.178526",
     "status": "completed"
    },
    "tags": []
   },
   "outputs": [
    {
     "name": "stdout",
     "output_type": "stream",
     "text": [
      "Quartile Measurements for Annual Income\n",
      "1st Quartile: 295.29499999999996 \n",
      "3rd Quartile: 1011.66 \n",
      "Inter Quartile Range: 716.365 \n",
      "\n",
      "Limits based on IQR Rule (Multiply IQR by 1.5, the constant used to detect outliers)\n",
      "Upper Limit: 2086.2075 \n",
      "Lower Limit: -779.2525000000002 \n",
      "\n",
      "Total Outliers Removed:  0\n"
     ]
    }
   ],
   "source": [
    "q1 = order_value.quantile(.25)\n",
    "q3 = order_value.quantile(.75)\n",
    "\n",
    "IQR = q3 - q1\n",
    "\n",
    "print(\"Quartile Measurements for Annual Income\")\n",
    "print(\"1st Quartile: {} \\n3rd Quartile: {} \\nInter Quartile Range: {} \\n\".format(q1, q3, IQR))\n",
    "\n",
    "limit = 1.5\n",
    "upper_limit = q3 + (limit * IQR)\n",
    "lower_limit = q1 - (limit * IQR)\n",
    "\n",
    "print(f\"Limits based on IQR Rule (Multiply IQR by {limit}, the constant used to detect outliers)\")\n",
    "print(\"Upper Limit: {} \\nLower Limit: {} \\n\".format(upper_limit, lower_limit))\n",
    "\n",
    "dataset = df.loc[(order_value <upper_limit) & (order_value > lower_limit)]\n",
    "print('Total Outliers Removed: ',len(df)- len(dataset))"
   ]
  },
  {
   "cell_type": "code",
   "execution_count": 8,
   "id": "d0cb3e0e",
   "metadata": {
    "execution": {
     "iopub.execute_input": "2025-01-24T11:42:36.215927Z",
     "iopub.status.busy": "2025-01-24T11:42:36.215498Z",
     "iopub.status.idle": "2025-01-24T11:42:36.224093Z",
     "shell.execute_reply": "2025-01-24T11:42:36.222784Z"
    },
    "papermill": {
     "duration": 0.01935,
     "end_time": "2025-01-24T11:42:36.226242",
     "exception": false,
     "start_time": "2025-01-24T11:42:36.206892",
     "status": "completed"
    },
    "tags": []
   },
   "outputs": [],
   "source": [
    "df['CustomerID'] = df['CustomerID'].str.split('C0', expand=True)[1].astype('int')"
   ]
  },
  {
   "cell_type": "code",
   "execution_count": 9,
   "id": "820e6844",
   "metadata": {
    "execution": {
     "iopub.execute_input": "2025-01-24T11:42:36.238467Z",
     "iopub.status.busy": "2025-01-24T11:42:36.238089Z",
     "iopub.status.idle": "2025-01-24T11:42:36.247018Z",
     "shell.execute_reply": "2025-01-24T11:42:36.245928Z"
    },
    "papermill": {
     "duration": 0.016981,
     "end_time": "2025-01-24T11:42:36.248848",
     "exception": false,
     "start_time": "2025-01-24T11:42:36.231867",
     "status": "completed"
    },
    "tags": []
   },
   "outputs": [],
   "source": [
    "clust_df = df.groupby(['CustomerID'])[['TotalValue', 'Quantity']].sum().reset_index()"
   ]
  },
  {
   "cell_type": "code",
   "execution_count": 10,
   "id": "e4fe6ff7",
   "metadata": {
    "execution": {
     "iopub.execute_input": "2025-01-24T11:42:36.261534Z",
     "iopub.status.busy": "2025-01-24T11:42:36.261136Z",
     "iopub.status.idle": "2025-01-24T11:42:36.269142Z",
     "shell.execute_reply": "2025-01-24T11:42:36.267883Z"
    },
    "papermill": {
     "duration": 0.017061,
     "end_time": "2025-01-24T11:42:36.271681",
     "exception": false,
     "start_time": "2025-01-24T11:42:36.254620",
     "status": "completed"
    },
    "tags": []
   },
   "outputs": [],
   "source": [
    "clust_df['NumberOfTransactions'] = df['CustomerID'].map(df.groupby(['CustomerID'])['CustomerID'].count())\n",
    "clust_df['AvgTransactionValue'] = clust_df['TotalValue'] / clust_df['NumberOfTransactions']"
   ]
  },
  {
   "cell_type": "code",
   "execution_count": 11,
   "id": "d26e0302",
   "metadata": {
    "execution": {
     "iopub.execute_input": "2025-01-24T11:42:36.284143Z",
     "iopub.status.busy": "2025-01-24T11:42:36.283752Z",
     "iopub.status.idle": "2025-01-24T11:42:36.293753Z",
     "shell.execute_reply": "2025-01-24T11:42:36.292360Z"
    },
    "papermill": {
     "duration": 0.018792,
     "end_time": "2025-01-24T11:42:36.296010",
     "exception": false,
     "start_time": "2025-01-24T11:42:36.277218",
     "status": "completed"
    },
    "tags": []
   },
   "outputs": [],
   "source": [
    "features = ['TotalValue', 'Quantity', 'NumberOfTransactions', 'AvgTransactionValue']\n",
    "\n",
    "scaler = StandardScaler()\n",
    "scaled_features = scaler.fit_transform(clust_df[features])"
   ]
  },
  {
   "cell_type": "code",
   "execution_count": 12,
   "id": "4b0a0b98",
   "metadata": {
    "execution": {
     "iopub.execute_input": "2025-01-24T11:42:36.309381Z",
     "iopub.status.busy": "2025-01-24T11:42:36.308926Z",
     "iopub.status.idle": "2025-01-24T11:42:36.923815Z",
     "shell.execute_reply": "2025-01-24T11:42:36.922549Z"
    },
    "papermill": {
     "duration": 0.624096,
     "end_time": "2025-01-24T11:42:36.926241",
     "exception": false,
     "start_time": "2025-01-24T11:42:36.302145",
     "status": "completed"
    },
    "tags": []
   },
   "outputs": [
    {
     "data": {
      "image/png": "[encoded data removed]",
      "text/plain": [
       "<Figure size 2000x300 with 1 Axes>"
      ]
     },
     "metadata": {},
     "output_type": "display_data"
    },
    {
     "data": {
      "image/png": "[encoded data removed]",
      "text/plain": [
       "<Figure size 1000x700 with 1 Axes>"
      ]
     },
     "metadata": {},
     "output_type": "display_data"
    },
    {
     "name": "stdout",
     "output_type": "stream",
     "text": [
      "DB Index:  0.373927714209455\n"
     ]
    }
   ],
   "source": [
    "data = clust_df[['NumberOfTransactions', 'AvgTransactionValue']]\n",
    "number_clusters=3\n",
    "values = data.values\n",
    "columns = data.columns\n",
    "\n",
    "# Initialize an empty list to store the within-cluster sum of squares (inertia) values\n",
    "inertias = []\n",
    "\n",
    "# A range of n_clusters values to try\n",
    "n_clusters_range = range(1, 10)\n",
    "\n",
    "# Iterate over the cluster(1-10)\n",
    "for n_clusters in n_clusters_range:\n",
    "    kmeans = KMeans(n_clusters=n_clusters, init='k-means++'\n",
    "                ,n_init='auto', max_iter=300, tol=0.0001, verbose=0\n",
    "                ,random_state=None, copy_x=True, algorithm='lloyd')\n",
    "    kmeans.fit(values)\n",
    "    inertias.append(kmeans.inertia_)\n",
    "\n",
    "# Plot the within-cluster sum of squares values\n",
    "plt.figure(figsize=(20,3))\n",
    "plt.plot(n_clusters_range, inertias)\n",
    "plt.xlabel('Number of Clusters')\n",
    "plt.ylabel('Within-Cluster Sum of Squares')\n",
    "plt.title('Elbow Method')\n",
    "plt.show();\n",
    "\n",
    "kmeans = KMeans(n_clusters=number_clusters, init='k-means++'\n",
    "                ,n_init='auto', max_iter=300, tol=0.0001, verbose=0\n",
    "                ,random_state=None, copy_x=True, algorithm='lloyd').fit(values)\n",
    "\n",
    "plt.figure(figsize=(10,7))                \n",
    "sns.scatterplot(data=clust_df, x=columns[0], y=columns[1], hue=kmeans.labels_, legend=False, palette='colorblind')\n",
    "sns.scatterplot(x=kmeans.cluster_centers_[:,0], y=kmeans.cluster_centers_[:,1], color='Yellow', s=100, label='Centroids')\n",
    "plt.xlabel(columns[0])\n",
    "plt.ylabel(columns[1])\n",
    "plt.show();\n",
    "    \n",
    "print(\"DB Index: \",davies_bouldin_score(data, kmeans.labels_))"
   ]
  },
  {
   "cell_type": "code",
   "execution_count": 13,
   "id": "1c59b5b6",
   "metadata": {
    "execution": {
     "iopub.execute_input": "2025-01-24T11:42:36.941282Z",
     "iopub.status.busy": "2025-01-24T11:42:36.940945Z",
     "iopub.status.idle": "2025-01-24T11:42:36.961571Z",
     "shell.execute_reply": "2025-01-24T11:42:36.960368Z"
    },
    "papermill": {
     "duration": 0.030844,
     "end_time": "2025-01-24T11:42:36.963985",
     "exception": false,
     "start_time": "2025-01-24T11:42:36.933141",
     "status": "completed"
    },
    "tags": []
   },
   "outputs": [
    {
     "data": {
      "text/html": [
       "<div>\n",
       "<style scoped>\n",
       "    .dataframe tbody tr th:only-of-type {\n",
       "        vertical-align: middle;\n",
       "    }\n",
       "\n",
       "    .dataframe tbody tr th {\n",
       "        vertical-align: top;\n",
       "    }\n",
       "\n",
       "    .dataframe thead th {\n",
       "        text-align: right;\n",
       "    }\n",
       "</style>\n",
       "<table border=\"1\" class=\"dataframe\">\n",
       "  <thead>\n",
       "    <tr style=\"text-align: right;\">\n",
       "      <th></th>\n",
       "      <th>CustomerID</th>\n",
       "      <th>TotalValue</th>\n",
       "      <th>Quantity</th>\n",
       "      <th>NumberOfTransactions</th>\n",
       "      <th>AvgTransactionValue</th>\n",
       "      <th>Cluster</th>\n",
       "    </tr>\n",
       "  </thead>\n",
       "  <tbody>\n",
       "    <tr>\n",
       "      <th>0</th>\n",
       "      <td>1</td>\n",
       "      <td>3354.52</td>\n",
       "      <td>12</td>\n",
       "      <td>5</td>\n",
       "      <td>670.904000</td>\n",
       "      <td>0</td>\n",
       "    </tr>\n",
       "    <tr>\n",
       "      <th>1</th>\n",
       "      <td>2</td>\n",
       "      <td>1862.74</td>\n",
       "      <td>10</td>\n",
       "      <td>5</td>\n",
       "      <td>372.548000</td>\n",
       "      <td>0</td>\n",
       "    </tr>\n",
       "    <tr>\n",
       "      <th>2</th>\n",
       "      <td>3</td>\n",
       "      <td>2725.38</td>\n",
       "      <td>14</td>\n",
       "      <td>5</td>\n",
       "      <td>545.076000</td>\n",
       "      <td>0</td>\n",
       "    </tr>\n",
       "    <tr>\n",
       "      <th>3</th>\n",
       "      <td>4</td>\n",
       "      <td>5354.88</td>\n",
       "      <td>23</td>\n",
       "      <td>5</td>\n",
       "      <td>1070.976000</td>\n",
       "      <td>2</td>\n",
       "    </tr>\n",
       "    <tr>\n",
       "      <th>4</th>\n",
       "      <td>5</td>\n",
       "      <td>2034.24</td>\n",
       "      <td>7</td>\n",
       "      <td>5</td>\n",
       "      <td>406.848000</td>\n",
       "      <td>0</td>\n",
       "    </tr>\n",
       "    <tr>\n",
       "      <th>...</th>\n",
       "      <td>...</td>\n",
       "      <td>...</td>\n",
       "      <td>...</td>\n",
       "      <td>...</td>\n",
       "      <td>...</td>\n",
       "      <td>...</td>\n",
       "    </tr>\n",
       "    <tr>\n",
       "      <th>194</th>\n",
       "      <td>196</td>\n",
       "      <td>4982.88</td>\n",
       "      <td>12</td>\n",
       "      <td>7</td>\n",
       "      <td>711.840000</td>\n",
       "      <td>1</td>\n",
       "    </tr>\n",
       "    <tr>\n",
       "      <th>195</th>\n",
       "      <td>197</td>\n",
       "      <td>1928.65</td>\n",
       "      <td>9</td>\n",
       "      <td>7</td>\n",
       "      <td>275.521429</td>\n",
       "      <td>1</td>\n",
       "    </tr>\n",
       "    <tr>\n",
       "      <th>196</th>\n",
       "      <td>198</td>\n",
       "      <td>931.83</td>\n",
       "      <td>3</td>\n",
       "      <td>7</td>\n",
       "      <td>133.118571</td>\n",
       "      <td>1</td>\n",
       "    </tr>\n",
       "    <tr>\n",
       "      <th>197</th>\n",
       "      <td>199</td>\n",
       "      <td>1979.28</td>\n",
       "      <td>9</td>\n",
       "      <td>7</td>\n",
       "      <td>282.754286</td>\n",
       "      <td>1</td>\n",
       "    </tr>\n",
       "    <tr>\n",
       "      <th>198</th>\n",
       "      <td>200</td>\n",
       "      <td>4758.60</td>\n",
       "      <td>16</td>\n",
       "      <td>3</td>\n",
       "      <td>1586.200000</td>\n",
       "      <td>2</td>\n",
       "    </tr>\n",
       "  </tbody>\n",
       "</table>\n",
       "<p>199 rows × 6 columns</p>\n",
       "</div>"
      ],
      "text/plain": [
       "     CustomerID  TotalValue  Quantity  NumberOfTransactions  \\\n",
       "0             1     3354.52        12                     5   \n",
       "1             2     1862.74        10                     5   \n",
       "2             3     2725.38        14                     5   \n",
       "3             4     5354.88        23                     5   \n",
       "4             5     2034.24         7                     5   \n",
       "..          ...         ...       ...                   ...   \n",
       "194         196     4982.88        12                     7   \n",
       "195         197     1928.65         9                     7   \n",
       "196         198      931.83         3                     7   \n",
       "197         199     1979.28         9                     7   \n",
       "198         200     4758.60        16                     3   \n",
       "\n",
       "     AvgTransactionValue  Cluster  \n",
       "0             670.904000        0  \n",
       "1             372.548000        0  \n",
       "2             545.076000        0  \n",
       "3            1070.976000        2  \n",
       "4             406.848000        0  \n",
       "..                   ...      ...  \n",
       "194           711.840000        1  \n",
       "195           275.521429        1  \n",
       "196           133.118571        1  \n",
       "197           282.754286        1  \n",
       "198          1586.200000        2  \n",
       "\n",
       "[199 rows x 6 columns]"
      ]
     },
     "execution_count": 13,
     "metadata": {},
     "output_type": "execute_result"
    }
   ],
   "source": [
    "# assign clustering to CustomerID\n",
    "clust_df['Cluster'] = kmeans.fit_predict(scaled_features)\n",
    "clust_df"
   ]
  },
  {
   "cell_type": "markdown",
   "id": "88ee10be",
   "metadata": {
    "papermill": {
     "duration": 0.007163,
     "end_time": "2025-01-24T11:42:36.978532",
     "exception": false,
     "start_time": "2025-01-24T11:42:36.971369",
     "status": "completed"
    },
    "tags": []
   },
   "source": [
    "## Clustering Results Report\n",
    "\n",
    "### 1. **Overview**\n",
    "   In this report, The clustering results on customer data using the `AvgTransactionValue` and `NumberOfTransactions` features, The goal was to identify meaningful customer segments based on their spending behavior. Various clustering metrics, including the **Davies-Bouldin Index (DB Index)**, were calculated to evaluate the quality of the clusters formed.\n",
    "\n",
    "### 2. **Number of Clusters Formed**\n",
    "   Using the K-Means algorithm, we identified and optimized the number of clusters. Based on **Elbow Method**, the optimal number of clusters selected was:\n",
    "\n",
    "   - **Number of clusters**: 3\n",
    "\n",
    "   This number of clusters was found to be optimal as it balanced both intra-cluster compactness and inter-cluster separation.\n",
    "\n",
    "### 3. **Clustering Metrics**\n",
    "\n",
    "   #### a) **Davies-Bouldin Index (DB Index)**\n",
    "   - **DB Index**: 0.37  \n",
    "     The Davies-Bouldin Index measures the average similarity ratio of each cluster with the cluster most similar to it. A lower value of DB Index indicates that clusters are well-separated. In our case, a DB Index value of 0.37 suggests a reasonable separation between clusters.\n",
    "\n",
    "### 4. **Summary of Clusters**\n",
    "   The clustering algorithm grouped customers into 3 segments based on their spending behavior. Below is a summary of each cluster:\n",
    "\n",
    "   - **Cluster 1**: This group contains customers with high total spend but fewer transactions. These customers likely make large, infrequent purchases.\n",
    "   - **Cluster 2**: This group includes customers with low total spend but a higher transaction frequency, indicating regular but smaller purchases.\n",
    "   - **Cluster 3**: Represents customers with moderate total spend and moderate transaction frequency, possibly an average customer group.\n",
    "\n",
    "### 5. **Recommendations**\n",
    "   Based on the clustering results:\n",
    "   - **Cluster 1** (High spend, low frequency) could be targeted with high-value promotions or exclusive deals.\n",
    "   - **Cluster 2** (Low spend, high frequency) could benefit from loyalty programs to encourage larger transactions.\n",
    "   - **Cluster 3** (Moderate spend, moderate frequency) could be maintained with general promotional strategies to retain their consistent engagement."
   ]
  }
 ],
 "metadata": {
  "kaggle": {
   "accelerator": "none",
   "dataSources": [
    {
     "datasetId": 6530279,
     "sourceId": 10554760,
     "sourceType": "datasetVersion"
    }
   ],
   "dockerImageVersionId": 30839,
   "isGpuEnabled": false,
   "isInternetEnabled": true,
   "language": "python",
   "sourceType": "notebook"
  },
  "kernelspec": {
   "display_name": "Python 3",
   "language": "python",
   "name": "python3"
  },
  "language_info": {
   "codemirror_mode": {
    "name": "ipython",
    "version": 3
   },
   "file_extension": ".py",
   "mimetype": "text/x-python",
   "name": "python",
   "nbconvert_exporter": "python",
   "pygments_lexer": "ipython3",
   "version": "3.10.12"
  },
  "papermill": {
   "default_parameters": {},
   "duration": 9.615387,
   "end_time": "2025-01-24T11:42:37.807836",
   "environment_variables": {},
   "exception": null,
   "input_path": "__notebook__.ipynb",
   "output_path": "__notebook__.ipynb",
   "parameters": {},
   "start_time": "2025-01-24T11:42:28.192449",
   "version": "2.6.0"
  }
 },
 "nbformat": 4,
 "nbformat_minor": 5
}
